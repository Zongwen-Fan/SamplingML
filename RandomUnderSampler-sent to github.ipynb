{
 "cells": [
  {
   "cell_type": "code",
   "execution_count": 9,
   "id": "7b33e638",
   "metadata": {},
   "outputs": [],
   "source": [
    "import pandas as pd\n",
    "import os\n",
    "import math\n",
    "from datetime import datetime\n",
    "import numpy as np\n",
    "from numpy import argmax\n",
    "\n",
    "# Splitting the dataset into the Training set and Test set\n",
    "from sklearn.model_selection import train_test_split\n",
    "from sklearn.preprocessing import OneHotEncoder\n",
    "from sklearn.preprocessing import LabelEncoder\n",
    "import sys\n",
    "\n",
    "from imblearn.under_sampling import RandomUnderSampler\n",
    "from sklearn.preprocessing import StandardScaler\n",
    "\n",
    "from sklearn.tree import DecisionTreeClassifier\n",
    "from catboost import CatBoostClassifier\n",
    "from sklearn.ensemble import RandomForestClassifier\n",
    "from xgboost import XGBClassifier\n",
    "from sklearn.neural_network import MLPClassifier\n",
    "from sklearn.svm import SVC\n",
    "from time import time\n",
    "from sklearn.metrics import classification_report,matthews_corrcoef\n",
    "from copy import deepcopy\n",
    "from sklearn.utils import shuffle\n",
    "\n",
    "# path to the dataset\n",
    "# file = 'Shaleeza.Dataset.v1.csv'\n",
    "file = 'IoT Network Intrusion Dataset.csv'\n",
    "data = pd.read_csv(file)"
   ]
  },
  {
   "cell_type": "code",
   "execution_count": 10,
   "id": "6af7c615",
   "metadata": {},
   "outputs": [],
   "source": [
    "def data_preprocessing(targets_others):\n",
    "    dataset = pd.read_csv(file, error_bad_lines=False, low_memory=False)\n",
    "    dataset = dataset.drop(['Flow_ID', 'Src_IP', 'Dst_IP', 'Dst_Port', 'Protocol'], axis=1)\n",
    "    dataset = dataset.drop(['Timestamp'], axis=1)\n",
    "\n",
    "    # contain only single values\n",
    "    dataset = dataset.drop(\n",
    "        ['Fwd_PSH_Flags', 'Fwd_URG_Flags', 'Fwd_Byts/b_Avg', 'Fwd_Pkts/b_Avg', 'Fwd_Blk_Rate_Avg', 'Bwd_Byts/b_Avg',\n",
    "         'Bwd_Pkts/b_Avg', 'Bwd_Blk_Rate_Avg', 'Init_Fwd_Win_Byts', 'Fwd_Seg_Size_Min'], axis=1)\n",
    "\n",
    "    dataset['Flow_Byts/s'] = round(dataset['Flow_Byts/s'],2)\n",
    "\n",
    "    dataset = dataset.drop(targets_others, axis=1)\n",
    "\n",
    "    dataset = dataset.reset_index()\n",
    "    dataset.replace([np.inf, -np.inf], np.nan, inplace=True)\n",
    "    dataset.dropna(inplace=True)\n",
    "\n",
    "    # correlation\n",
    "    correlated_features = set()\n",
    "    correlation_matrix = dataset.corr()\n",
    "\n",
    "    for i in range(len(correlation_matrix.columns)):\n",
    "        for j in range(i):\n",
    "            if abs(correlation_matrix.iloc[i, j]) >= 0.7:\n",
    "                colname = correlation_matrix.columns[i]\n",
    "                correlated_features.add(colname)\n",
    "\n",
    "    dataset.drop(labels=correlated_features, axis=1, inplace=True)\n",
    "\n",
    "    return dataset\n",
    "\n",
    "def kFoldCV(model, data, n_fold=10):\n",
    "    diff = int(len(data)/n_fold)\n",
    "    results = np.zeros((1, 4))\n",
    "    predictY = deepcopy(data[:,-1])\n",
    "    for i in range(n_fold):\n",
    "        begin = diff*i\n",
    "        end = diff*(i+1)\n",
    "#         if i == n_fold-1:\n",
    "#             end = -1\n",
    "        test = data[begin:end]\n",
    "        train = deepcopy(data)\n",
    "        train = np.delete(train, range(begin, end),axis=0)\n",
    "        X_train, y_train = RandomUnderSampler().fit_resample(train[:,:-1], train[:,-1])\n",
    "        predictY[begin:end] = model.fit(X_train, y_train).predict(test[:,:-1])\n",
    "    t = classification_report(data[:,-1], predictY)\n",
    "    print(t)\n",
    "    print(matthews_corrcoef(data[:,-1], predictY))\n",
    "        \n",
    "#         results = results + getResults(model, train[:,:-1], train[:,-1],test[:,:-1],test[:,-1])\n",
    "#     return results/n_fold\n",
    "\n",
    "def getResults(model, X_train, y_train,X_test,y):\n",
    "    predictY = model.fit(X_train, y_train).predict(X_test)\n",
    "    t = classification_report(y, predictY)#, target_names=['0', '1', '2']\n",
    "    return t\n"
   ]
  },
  {
   "cell_type": "code",
   "execution_count": 23,
   "id": "c04ddc78",
   "metadata": {},
   "outputs": [
    {
     "name": "stderr",
     "output_type": "stream",
     "text": [
      "C:\\Users\\Administrator\\AppData\\Local\\Temp\\ipykernel_652\\453741918.py:2: FutureWarning: The error_bad_lines argument has been deprecated and will be removed in a future version. Use on_bad_lines in the future.\n",
      "\n",
      "\n",
      "  dataset = pd.read_csv(file, error_bad_lines=False, low_memory=False)\n"
     ]
    }
   ],
   "source": [
    "data = data_preprocessing(['Label', 'Cat'])\n",
    "data = data.values\n",
    "data = data[:,1:]\n",
    "X_train, y_train = data[:,:-1], data[:,-1]\n",
    "y_train = LabelEncoder().fit_transform(y_train)\n",
    "data = np.c_[X_train,y_train]"
   ]
  },
  {
   "cell_type": "code",
   "execution_count": 12,
   "id": "562fd403",
   "metadata": {
    "scrolled": true
   },
   "outputs": [
    {
     "name": "stdout",
     "output_type": "stream",
     "text": [
      "                       precision    recall  f1-score   support\n",
      "\n",
      "      DoS-Synflooding       1.00      1.00      1.00     59391\n",
      "    MITM ARP Spoofing       0.30      0.45      0.36     35377\n",
      "    Mirai-Ackflooding       0.34      0.00      0.00     55124\n",
      "  Mirai-HTTP Flooding       0.25      0.85      0.39     55818\n",
      "Mirai-Hostbruteforceg       0.64      0.31      0.42    121178\n",
      "   Mirai-UDP Flooding       1.00      0.59      0.74    183189\n",
      "               Normal       0.98      0.63      0.77     40073\n",
      "        Scan Hostport       0.17      0.06      0.08     22192\n",
      "         Scan Port OS       0.40      0.93      0.56     53073\n",
      "\n",
      "             accuracy                           0.55    625415\n",
      "            macro avg       0.56      0.54      0.48    625415\n",
      "         weighted avg       0.68      0.55      0.55    625415\n",
      "\n",
      "0.5099452409831822\n",
      "58.52631759643555\n"
     ]
    }
   ],
   "source": [
    "t = time()\n",
    "length = [5]\n",
    "for i in length:\n",
    "    model = DecisionTreeClassifier(max_depth=i)\n",
    "    kFoldCV(model, data)\n",
    "\n",
    "\n",
    "print(time()-t)"
   ]
  },
  {
   "cell_type": "code",
   "execution_count": 13,
   "id": "d1c387c5",
   "metadata": {},
   "outputs": [
    {
     "name": "stdout",
     "output_type": "stream",
     "text": [
      "                       precision    recall  f1-score   support\n",
      "\n",
      "      DoS-Synflooding       1.00      1.00      1.00     59391\n",
      "    MITM ARP Spoofing       0.60      0.17      0.26     35377\n",
      "    Mirai-Ackflooding       0.33      0.02      0.03     55124\n",
      "  Mirai-HTTP Flooding       0.25      0.00      0.01     55818\n",
      "Mirai-Hostbruteforceg       0.32      0.01      0.02    121178\n",
      "   Mirai-UDP Flooding       0.37      0.88      0.52    183189\n",
      "               Normal       0.79      0.21      0.33     40073\n",
      "        Scan Hostport       0.11      0.12      0.12     22192\n",
      "         Scan Port OS       0.17      0.26      0.20     53073\n",
      "\n",
      "             accuracy                           0.41    625415\n",
      "            macro avg       0.44      0.30      0.28    625415\n",
      "         weighted avg       0.42      0.41      0.31    625415\n",
      "\n",
      "0.27702615960593185\n",
      "1631.2587668895721\n"
     ]
    }
   ],
   "source": [
    "t = time()\n",
    "hidden_layer_sizes  = [300]\n",
    "max_iter = [300]\n",
    "for i in hidden_layer_sizes:\n",
    "    for j in max_iter:\n",
    "        model = MLPClassifier(hidden_layer_sizes=i, max_iter=j)\n",
    "        kFoldCV(model, data)\n",
    "\n",
    "\n",
    "print(time()-t)"
   ]
  },
  {
   "cell_type": "code",
   "execution_count": null,
   "id": "0233b66e",
   "metadata": {},
   "outputs": [],
   "source": [
    "t = time()\n",
    "Cs = [10, 100, 1000]\n",
    "gammas = [0.01, 0.1,1]\n",
    "for i in Cs:\n",
    "    for j in gammas:\n",
    "        model = SVC(kernel = 'rbf', C = i, gamma = j)\n",
    "        kFoldCV(model, data)\n",
    "\n",
    "print(time()-t)\n"
   ]
  },
  {
   "cell_type": "code",
   "execution_count": 14,
   "id": "c194c394",
   "metadata": {},
   "outputs": [
    {
     "name": "stdout",
     "output_type": "stream",
     "text": [
      "                       precision    recall  f1-score   support\n",
      "\n",
      "      DoS-Synflooding       1.00      1.00      1.00     59391\n",
      "    MITM ARP Spoofing       0.32      0.88      0.47     35377\n",
      "    Mirai-Ackflooding       0.30      0.36      0.33     55124\n",
      "  Mirai-HTTP Flooding       0.30      0.49      0.37     55818\n",
      "Mirai-Hostbruteforceg       0.89      0.21      0.35    121178\n",
      "   Mirai-UDP Flooding       0.99      0.71      0.82    183189\n",
      "               Normal       0.81      0.85      0.83     40073\n",
      "        Scan Hostport       0.17      0.12      0.14     22192\n",
      "         Scan Port OS       0.46      0.82      0.59     53073\n",
      "\n",
      "             accuracy                           0.60    625415\n",
      "            macro avg       0.58      0.60      0.54    625415\n",
      "         weighted avg       0.73      0.60      0.60    625415\n",
      "\n",
      "0.552064817027156\n",
      "1780.5212337970734\n"
     ]
    }
   ],
   "source": [
    "n_estimators  = [200]\n",
    "max_depth = [5]\n",
    "for i in n_estimators:\n",
    "    for j in max_depth:\n",
    "        model = RandomForestClassifier(n_estimators=i, max_depth=j)\n",
    "        kFoldCV(model, data)\n",
    "\n",
    "print(time()-t)\n"
   ]
  },
  {
   "cell_type": "code",
   "execution_count": 19,
   "id": "19432273",
   "metadata": {},
   "outputs": [],
   "source": [
    "def kFoldCV(model, data, n_fold=10):\n",
    "    diff = int(len(data)/n_fold)\n",
    "    results = np.zeros((1, 4))\n",
    "    predictY = deepcopy(data[:,-1])\n",
    "    for i in range(n_fold):\n",
    "        begin = diff*i\n",
    "        end = diff*(i+1)\n",
    "#         if i == n_fold-1:\n",
    "#             end = -1\n",
    "        test = data[begin:end]\n",
    "        train = deepcopy(data)\n",
    "        train = np.delete(train, range(begin, end),axis=0)\n",
    "        X_train, y_train = RandomUnderSampler().fit_resample(train[:,:-1], train[:,-1])\n",
    "        \n",
    "        y_train = y_train.astype('int').reshape(len(X_train), 1)\n",
    "        predictY[begin:end] = model.fit(X_train, y_train).predict(test[:,:-1])\n",
    "    t = classification_report(data[:,-1], predictY)\n",
    "    print(t)\n",
    "    print(matthews_corrcoef(data[:,-1], predictY))"
   ]
  },
  {
   "cell_type": "code",
   "execution_count": 51,
   "id": "81db224e",
   "metadata": {},
   "outputs": [],
   "source": [
    "\n",
    "    \n",
    "def kFoldCV(model, data, n_fold=10):\n",
    "    diff = int(len(data)/n_fold)\n",
    "    results = np.zeros((1, 4))\n",
    "    predictY = deepcopy(data[:,-1]).reshape(len(data[:,-1]),1)\n",
    "    for i in range(n_fold):\n",
    "        begin = diff*i\n",
    "        end = diff*(i+1)\n",
    "#         if i == n_fold-1:\n",
    "#             end = -1\n",
    "        test = data[begin:end]\n",
    "        train = deepcopy(data)\n",
    "        train = np.delete(train, range(begin, end),axis=0)\n",
    "        X_train, y_train = RandomUnderSampler().fit_resample(train[:,:-1], train[:,-1].astype(int))\n",
    "#         print(train[:,-1].shape)\n",
    "#         y_train = y_train.astype('int').reshape(len(X_train),1)\n",
    "        model.fit(X_train, y_train)\n",
    "        predictY[begin:end] = model.predict(test[:,:-1])\n",
    "#         predictY[begin:end] = model.fit(train[:,:-1], train[:,-1].astype(\"int\")).predict(test[:,:-1])\n",
    "    t = classification_report(data[:,-1].astype(\"int\"), predictY.astype(\"int\"))\n",
    "    print(t)\n",
    "    print(matthews_corrcoef(data[:,-1].astype(\"int\"), predictY.astype(\"int\")))"
   ]
  },
  {
   "cell_type": "code",
   "execution_count": 49,
   "id": "3827878d",
   "metadata": {},
   "outputs": [
    {
     "name": "stdout",
     "output_type": "stream",
     "text": [
      "              precision    recall  f1-score   support\n",
      "\n",
      "           0       1.00      1.00      1.00     59391\n",
      "           1       0.89      0.98      0.93     35377\n",
      "           2       0.31      0.54      0.39     55124\n",
      "           3       0.31      0.40      0.35     55818\n",
      "           4       0.97      0.84      0.90    121178\n",
      "           5       1.00      0.70      0.83    183189\n",
      "           6       0.91      0.94      0.92     40073\n",
      "           7       0.48      0.61      0.54     22192\n",
      "           8       0.81      0.82      0.81     53073\n",
      "\n",
      "    accuracy                           0.75    625415\n",
      "   macro avg       0.74      0.76      0.74    625415\n",
      "weighted avg       0.82      0.75      0.78    625415\n",
      "\n",
      "0.7184127474649835\n",
      "334.30882954597473\n"
     ]
    }
   ],
   "source": [
    "t = time()\n",
    "n_estimators  = [100]\n",
    "max_depth = [5]\n",
    "\n",
    "data = np.c_[X_train,y_train]\n",
    "for i in n_estimators:\n",
    "    for j in max_depth:\n",
    "        model = XGBClassifier(n_estimators=i, max_depth=j,objective='mlogloss')\n",
    "        kFoldCV(model, data)\n",
    "print(time()-t)"
   ]
  },
  {
   "cell_type": "code",
   "execution_count": 52,
   "id": "86ae46d4",
   "metadata": {},
   "outputs": [
    {
     "name": "stdout",
     "output_type": "stream",
     "text": [
      "              precision    recall  f1-score   support\n",
      "\n",
      "           0       1.00      1.00      1.00     59391\n",
      "           1       0.80      0.97      0.88     35377\n",
      "           2       0.31      0.53      0.40     55124\n",
      "           3       0.31      0.42      0.36     55818\n",
      "           4       0.95      0.81      0.88    121178\n",
      "           5       1.00      0.70      0.83    183189\n",
      "           6       0.89      0.93      0.91     40073\n",
      "           7       0.45      0.60      0.52     22192\n",
      "           8       0.80      0.79      0.80     53073\n",
      "\n",
      "    accuracy                           0.75    625415\n",
      "   macro avg       0.73      0.75      0.73    625415\n",
      "weighted avg       0.81      0.75      0.77    625415\n",
      "\n",
      "0.7089554782479809\n",
      "271.6109025478363\n"
     ]
    }
   ],
   "source": [
    "t = time()\n",
    "n_estimators  = [200]\n",
    "max_depth = [5]\n",
    "for i in n_estimators:\n",
    "    for j in max_depth:\n",
    "        model = CatBoostClassifier(n_estimators=i, max_depth=j,verbose=False)\n",
    "        kFoldCV(model, data)\n",
    "\n",
    "print(time()-t)"
   ]
  },
  {
   "cell_type": "code",
   "execution_count": null,
   "id": "754bc1eb",
   "metadata": {},
   "outputs": [],
   "source": []
  },
  {
   "cell_type": "code",
   "execution_count": null,
   "id": "5f77ac9e",
   "metadata": {},
   "outputs": [],
   "source": []
  }
 ],
 "metadata": {
  "kernelspec": {
   "display_name": "Python 3 (ipykernel)",
   "language": "python",
   "name": "python3"
  },
  "language_info": {
   "codemirror_mode": {
    "name": "ipython",
    "version": 3
   },
   "file_extension": ".py",
   "mimetype": "text/x-python",
   "name": "python",
   "nbconvert_exporter": "python",
   "pygments_lexer": "ipython3",
   "version": "3.9.12"
  }
 },
 "nbformat": 4,
 "nbformat_minor": 5
}
