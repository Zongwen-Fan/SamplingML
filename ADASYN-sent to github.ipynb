{
 "cells": [
  {
   "cell_type": "code",
   "execution_count": 1,
   "id": "7b33e638",
   "metadata": {},
   "outputs": [],
   "source": [
    "import pandas as pd\n",
    "import os\n",
    "import math\n",
    "from datetime import datetime\n",
    "import numpy as np\n",
    "from numpy import argmax\n",
    "\n",
    "# Splitting the dataset into the Training set and Test set\n",
    "from sklearn.model_selection import train_test_split\n",
    "from sklearn.preprocessing import OneHotEncoder\n",
    "from sklearn.preprocessing import LabelEncoder\n",
    "import sys\n",
    "\n",
    "from imblearn.over_sampling import KMeansSMOTE, ADASYN,SMOTE\n",
    "from sklearn.preprocessing import StandardScaler\n",
    "\n",
    "from sklearn.tree import DecisionTreeClassifier\n",
    "from catboost import CatBoostClassifier\n",
    "from sklearn.ensemble import RandomForestClassifier\n",
    "from xgboost import XGBClassifier\n",
    "from sklearn.neural_network import MLPClassifier\n",
    "from sklearn.svm import SVC\n",
    "from time import time\n",
    "from sklearn.metrics import classification_report,matthews_corrcoef\n",
    "from copy import deepcopy\n",
    "from sklearn.utils import shuffle\n",
    "\n",
    "# path to the dataset\n",
    "# file = 'Shaleeza.Dataset.v1.csv'\n",
    "file = 'IoT Network Intrusion Dataset.csv'\n",
    "data = pd.read_csv(file)"
   ]
  },
  {
   "cell_type": "code",
   "execution_count": 2,
   "id": "6af7c615",
   "metadata": {},
   "outputs": [],
   "source": [
    "def data_preprocessing(targets_others):\n",
    "    dataset = pd.read_csv(file, error_bad_lines=False, low_memory=False)\n",
    "    dataset = dataset.drop(['Flow_ID', 'Src_IP', 'Dst_IP', 'Dst_Port', 'Protocol'], axis=1)\n",
    "    dataset = dataset.drop(['Timestamp'], axis=1)\n",
    "\n",
    "    # contain only single values\n",
    "    dataset = dataset.drop(\n",
    "        ['Fwd_PSH_Flags', 'Fwd_URG_Flags', 'Fwd_Byts/b_Avg', 'Fwd_Pkts/b_Avg', 'Fwd_Blk_Rate_Avg', 'Bwd_Byts/b_Avg',\n",
    "         'Bwd_Pkts/b_Avg', 'Bwd_Blk_Rate_Avg', 'Init_Fwd_Win_Byts', 'Fwd_Seg_Size_Min'], axis=1)\n",
    "\n",
    "    dataset['Flow_Byts/s'] = round(dataset['Flow_Byts/s'],2)\n",
    "\n",
    "    dataset = dataset.drop(targets_others, axis=1)\n",
    "\n",
    "    dataset = dataset.reset_index()\n",
    "    dataset.replace([np.inf, -np.inf], np.nan, inplace=True)\n",
    "    dataset.dropna(inplace=True)\n",
    "\n",
    "    # correlation\n",
    "    correlated_features = set()\n",
    "    correlation_matrix = dataset.corr()\n",
    "\n",
    "    for i in range(len(correlation_matrix.columns)):\n",
    "        for j in range(i):\n",
    "            if abs(correlation_matrix.iloc[i, j]) >= 0.7:\n",
    "                colname = correlation_matrix.columns[i]\n",
    "                correlated_features.add(colname)\n",
    "\n",
    "    dataset.drop(labels=correlated_features, axis=1, inplace=True)\n",
    "\n",
    "    return dataset\n",
    "\n",
    "def kFoldCV(model, data, n_fold=10):\n",
    "    diff = int(len(data)/n_fold)\n",
    "    results = np.zeros((1, 4))\n",
    "    predictY = deepcopy(data[:,-1])\n",
    "    for i in range(n_fold):\n",
    "        begin = diff*i\n",
    "        end = diff*(i+1)\n",
    "#         if i == n_fold-1:\n",
    "#             end = -1\n",
    "        test = data[begin:end]\n",
    "        train = deepcopy(data)\n",
    "        train = np.delete(train, range(begin, end),axis=0)\n",
    "        X_train, y_train = ADASYN().fit_resample(train[:,:-1], train[:,-1])\n",
    "        predictY[begin:end] = model.fit(X_train, y_train).predict(test[:,:-1])\n",
    "    t = classification_report(data[:,-1], predictY)\n",
    "    print(t)\n",
    "    print(matthews_corrcoef(data[:,-1], predictY))\n",
    "        \n",
    "#         results = results + getResults(model, train[:,:-1], train[:,-1],test[:,:-1],test[:,-1])\n",
    "#     return results/n_fold\n",
    "\n",
    "def getResults(model, X_train, y_train,X_test,y):\n",
    "    predictY = model.fit(X_train, y_train).predict(X_test)\n",
    "    t = classification_report(y, predictY)#, target_names=['0', '1', '2']\n",
    "    return t\n"
   ]
  },
  {
   "cell_type": "code",
   "execution_count": 3,
   "id": "c04ddc78",
   "metadata": {},
   "outputs": [
    {
     "name": "stderr",
     "output_type": "stream",
     "text": [
      "C:\\Users\\Administrator\\AppData\\Local\\Temp\\ipykernel_14344\\1158925801.py:2: FutureWarning: The error_bad_lines argument has been deprecated and will be removed in a future version. Use on_bad_lines in the future.\n",
      "\n",
      "\n",
      "  dataset = pd.read_csv(file, error_bad_lines=False, low_memory=False)\n"
     ]
    }
   ],
   "source": [
    "data = data_preprocessing(['Label', 'Cat'])\n",
    "data = data.values\n",
    "data = data[:,1:]\n",
    "X_train, y_train = data[:,:-1], data[:,-1]\n",
    "y_train = LabelEncoder().fit_transform(y_train)"
   ]
  },
  {
   "cell_type": "code",
   "execution_count": 6,
   "id": "19ea1c5d",
   "metadata": {},
   "outputs": [
    {
     "name": "stdout",
     "output_type": "stream",
     "text": [
      "                       precision    recall  f1-score   support\n",
      "\n",
      "      DoS-Synflooding       1.00      0.99      1.00     59391\n",
      "    MITM ARP Spoofing       0.39      0.65      0.49     35377\n",
      "    Mirai-Ackflooding       0.28      0.08      0.13     55124\n",
      "  Mirai-HTTP Flooding       0.29      0.75      0.41     55818\n",
      "Mirai-Hostbruteforceg       0.93      0.40      0.56    121178\n",
      "   Mirai-UDP Flooding       1.00      0.70      0.82    183189\n",
      "               Normal       0.37      0.98      0.54     40073\n",
      "        Scan Hostport       0.25      0.53      0.34     22192\n",
      "         Scan Port OS       0.67      0.15      0.24     53073\n",
      "\n",
      "             accuracy                           0.58    625415\n",
      "            macro avg       0.57      0.58      0.50    625415\n",
      "         weighted avg       0.73      0.58      0.59    625415\n",
      "\n",
      "0.5389745785336749\n",
      "688.3944842815399\n"
     ]
    }
   ],
   "source": [
    "t = time()\n",
    "length = [5]\n",
    "for i in length:\n",
    "    model = DecisionTreeClassifier(max_depth=i)\n",
    "    kFoldCV(model, data)\n",
    "\n",
    "\n",
    "print(time()-t)"
   ]
  },
  {
   "cell_type": "code",
   "execution_count": 4,
   "id": "ee3341f2",
   "metadata": {},
   "outputs": [
    {
     "name": "stdout",
     "output_type": "stream",
     "text": [
      "                       precision    recall  f1-score   support\n",
      "\n",
      "      DoS-Synflooding       0.98      1.00      0.99     59391\n",
      "    MITM ARP Spoofing       0.55      0.05      0.10     35377\n",
      "    Mirai-Ackflooding       0.29      0.01      0.01     55124\n",
      "  Mirai-HTTP Flooding       0.10      0.10      0.10     55818\n",
      "Mirai-Hostbruteforceg       0.22      0.41      0.29    121178\n",
      "   Mirai-UDP Flooding       0.38      0.39      0.38    183189\n",
      "               Normal       0.77      0.15      0.25     40073\n",
      "        Scan Hostport       0.10      0.06      0.08     22192\n",
      "         Scan Port OS       0.13      0.17      0.15     53073\n",
      "\n",
      "             accuracy                           0.33    625415\n",
      "            macro avg       0.39      0.26      0.26    625415\n",
      "         weighted avg       0.38      0.33      0.31    625415\n",
      "\n",
      "0.17698891475868056\n",
      "29981.258207321167\n"
     ]
    }
   ],
   "source": [
    "t = time()\n",
    "hidden_layer_sizes  = [300]\n",
    "max_iter = [300]\n",
    "for i in hidden_layer_sizes:\n",
    "    for j in max_iter:\n",
    "        model = MLPClassifier(hidden_layer_sizes=i, max_iter=j)\n",
    "        kFoldCV(model, data)\n",
    "\n",
    "\n",
    "print(time()-t)"
   ]
  },
  {
   "cell_type": "code",
   "execution_count": 5,
   "id": "c194c394",
   "metadata": {},
   "outputs": [
    {
     "name": "stdout",
     "output_type": "stream",
     "text": [
      "                       precision    recall  f1-score   support\n",
      "\n",
      "      DoS-Synflooding       0.99      1.00      1.00     59391\n",
      "    MITM ARP Spoofing       0.34      0.56      0.42     35377\n",
      "    Mirai-Ackflooding       0.32      0.43      0.37     55124\n",
      "  Mirai-HTTP Flooding       0.30      0.38      0.33     55818\n",
      "Mirai-Hostbruteforceg       0.84      0.36      0.50    121178\n",
      "   Mirai-UDP Flooding       0.98      0.71      0.82    183189\n",
      "               Normal       0.76      0.85      0.80     40073\n",
      "        Scan Hostport       0.19      0.30      0.23     22192\n",
      "         Scan Port OS       0.34      0.62      0.44     53073\n",
      "\n",
      "             accuracy                           0.59    625415\n",
      "            macro avg       0.56      0.58      0.55    625415\n",
      "         weighted avg       0.70      0.59      0.61    625415\n",
      "\n",
      "0.5384163413721943\n",
      "32778.73363780975\n"
     ]
    }
   ],
   "source": [
    "n_estimators  = [100]\n",
    "max_depth = [5]\n",
    "for i in n_estimators:\n",
    "    for j in max_depth:\n",
    "        model = RandomForestClassifier(n_estimators=i, max_depth=j)\n",
    "        kFoldCV(model, data)\n",
    "\n",
    "print(time()-t)\n"
   ]
  },
  {
   "cell_type": "code",
   "execution_count": 7,
   "id": "a5d8606b",
   "metadata": {},
   "outputs": [],
   "source": [
    "def kFoldCV(model, data, n_fold=10):\n",
    "    diff = int(len(data)/n_fold)\n",
    "    results = np.zeros((1, 4))\n",
    "    predictY = deepcopy(data[:,-1])\n",
    "    for i in range(n_fold):\n",
    "        begin = diff*i\n",
    "        end = diff*(i+1)\n",
    "#         if i == n_fold-1:\n",
    "#             end = -1\n",
    "        test = data[begin:end]\n",
    "        train = deepcopy(data)\n",
    "        train = np.delete(train, range(begin, end),axis=0)\n",
    "        X_train, y_train = ADASYN().fit_resample(train[:,:-1], train[:,-1].astype(int))\n",
    "#         print(train[:,-1].shape)\n",
    "#         y_train = y_train.astype('int').reshape(len(X_train),1)\n",
    "        model.fit(X_train, y_train)\n",
    "        predictY[begin:end] = model.predict(test[:,:-1])\n",
    "#         predictY[begin:end] = model.fit(train[:,:-1], train[:,-1].astype(\"int\")).predict(test[:,:-1])\n",
    "    t = classification_report(data[:,-1].astype(\"int\"), predictY.astype(\"int\"))\n",
    "    print(t)\n",
    "    print(matthews_corrcoef(data[:,-1].astype(\"int\"), predictY.astype(\"int\")))"
   ]
  },
  {
   "cell_type": "code",
   "execution_count": 9,
   "id": "3827878d",
   "metadata": {},
   "outputs": [
    {
     "name": "stdout",
     "output_type": "stream",
     "text": [
      "              precision    recall  f1-score   support\n",
      "\n",
      "           0       1.00      1.00      1.00     59391\n",
      "           1       0.85      0.99      0.91     35377\n",
      "           2       0.30      0.42      0.35     55124\n",
      "           3       0.31      0.46      0.37     55818\n",
      "           4       0.94      0.86      0.90    121178\n",
      "           5       1.00      0.70      0.82    183189\n",
      "           6       0.81      0.97      0.88     40073\n",
      "           7       0.41      0.70      0.52     22192\n",
      "           8       0.79      0.56      0.65     53073\n",
      "\n",
      "    accuracy                           0.74    625415\n",
      "   macro avg       0.71      0.74      0.71    625415\n",
      "weighted avg       0.80      0.74      0.76    625415\n",
      "\n",
      "0.6973697493699919\n",
      "8312.03058385849\n"
     ]
    }
   ],
   "source": [
    "\n",
    "data = np.c_[X_train,y_train]\n",
    "t = time()\n",
    "n_estimators  = [200]\n",
    "max_depth = [5]\n",
    "for i in n_estimators:\n",
    "    for j in max_depth:\n",
    "        model = XGBClassifier(n_estimators=i, max_depth=j,objective='mlogloss')\n",
    "        kFoldCV(model, data)\n",
    "\n",
    "\n",
    "print(time()-t)"
   ]
  },
  {
   "cell_type": "code",
   "execution_count": 13,
   "id": "9d4599a6",
   "metadata": {},
   "outputs": [],
   "source": [
    "def kFoldCV(model, data, n_fold=10):\n",
    "    diff = int(len(data)/n_fold)\n",
    "    results = np.zeros((1, 4))\n",
    "    predictY = deepcopy(data[:,-1]).reshape(len(data[:,-1]),1)\n",
    "    for i in range(n_fold):\n",
    "        begin = diff*i\n",
    "        end = diff*(i+1)\n",
    "#         if i == n_fold-1:\n",
    "#             end = -1\n",
    "        test = data[begin:end]\n",
    "        train = deepcopy(data)\n",
    "        train = np.delete(train, range(begin, end),axis=0)\n",
    "        X_train, y_train = ADASYN().fit_resample(train[:,:-1], train[:,-1].astype(int))\n",
    "#         print(train[:,-1].shape)\n",
    "#         y_train = y_train.astype('int').reshape(len(X_train),1)\n",
    "        model.fit(X_train, y_train)\n",
    "        predictY[begin:end] = model.predict(test[:,:-1]).reshape(len(test[:,-1]),1)\n",
    "#         predictY[begin:end] = model.fit(train[:,:-1], train[:,-1].astype(\"int\")).predict(test[:,:-1])\n",
    "    t = classification_report(data[:,-1].astype(\"int\"), predictY.astype(\"int\"))\n",
    "    print(t)\n",
    "    print(matthews_corrcoef(data[:,-1].astype(\"int\"), predictY.astype(\"int\")))"
   ]
  },
  {
   "cell_type": "code",
   "execution_count": 14,
   "id": "86ae46d4",
   "metadata": {},
   "outputs": [
    {
     "name": "stdout",
     "output_type": "stream",
     "text": [
      "              precision    recall  f1-score   support\n",
      "\n",
      "           0       0.99      1.00      1.00     59391\n",
      "           1       0.73      0.98      0.84     35377\n",
      "           2       0.32      0.41      0.36     55124\n",
      "           3       0.32      0.50      0.39     55818\n",
      "           4       0.92      0.81      0.86    121178\n",
      "           5       1.00      0.70      0.82    183189\n",
      "           6       0.79      0.96      0.87     40073\n",
      "           7       0.39      0.70      0.50     22192\n",
      "           8       0.77      0.52      0.62     53073\n",
      "\n",
      "    accuracy                           0.72    625415\n",
      "   macro avg       0.69      0.73      0.70    625415\n",
      "weighted avg       0.79      0.72      0.74    625415\n",
      "\n",
      "0.6848928639126862\n",
      "3651.2022938728333\n"
     ]
    }
   ],
   "source": [
    "t = time()\n",
    "n_estimators  = [10, 100, 200]\n",
    "max_depth = [3, 4, 5]\n",
    "n_estimators  = [200]\n",
    "max_depth = [5]\n",
    "for i in n_estimators:\n",
    "    for j in max_depth:\n",
    "        model = CatBoostClassifier(n_estimators=i, max_depth=j,verbose=False)\n",
    "        kFoldCV(model, data)\n",
    "\n",
    "print(time()-t)"
   ]
  },
  {
   "cell_type": "code",
   "execution_count": null,
   "id": "a9884aad",
   "metadata": {},
   "outputs": [],
   "source": []
  },
  {
   "cell_type": "code",
   "execution_count": null,
   "id": "c93499c9",
   "metadata": {},
   "outputs": [],
   "source": []
  }
 ],
 "metadata": {
  "kernelspec": {
   "display_name": "Python 3 (ipykernel)",
   "language": "python",
   "name": "python3"
  },
  "language_info": {
   "codemirror_mode": {
    "name": "ipython",
    "version": 3
   },
   "file_extension": ".py",
   "mimetype": "text/x-python",
   "name": "python",
   "nbconvert_exporter": "python",
   "pygments_lexer": "ipython3",
   "version": "3.9.12"
  }
 },
 "nbformat": 4,
 "nbformat_minor": 5
}
